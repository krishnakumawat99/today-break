{
  "nbformat": 4,
  "nbformat_minor": 0,
  "metadata": {
    "colab": {
      "provenance": []
    },
    "kernelspec": {
      "name": "python3",
      "display_name": "Python 3"
    },
    "language_info": {
      "name": "python"
    }
  },
  "cells": [
    {
      "cell_type": "code",
      "execution_count": null,
      "metadata": {
        "colab": {
          "base_uri": "https://localhost:8080/"
        },
        "id": "eil5hYQbTGlr",
        "outputId": "eb697f47-dd29-4a9c-df8b-a1886e04a3cd"
      },
      "outputs": [
        {
          "output_type": "stream",
          "name": "stdout",
          "text": [
            "enter a number:5\n",
            "the number is odd\n"
          ]
        }
      ],
      "source": [
        "# Q1 Write a program that takes an integer input from the user and checks whether the number is odd or even.\n",
        "x=int(input(\"enter a number:\"))\n",
        "if(x%2==0):\n",
        "    print(\"the number is even\")\n",
        "else:\n",
        "    print(\"the number is odd\")"
      ]
    },
    {
      "cell_type": "code",
      "source": [
        "# Q2 Write a program that takes three numbers as input and prints the largest of the three.\n",
        "x=int(input(\"enter a number:\"))\n",
        "y=int(input(\"enter a number:\"))\n",
        "z=int(input(\"enter a number:\"))\n",
        "if(x>y and x>z):\n",
        "    print(\"x largest number\")\n",
        "elif(y>x and y>z):\n",
        "    print(\"y largest number\")\n",
        "else:\n",
        "    print(\"z largest number\")"
      ],
      "metadata": {
        "colab": {
          "base_uri": "https://localhost:8080/"
        },
        "id": "7-shBBsTVSpL",
        "outputId": "0b3e0305-081f-4644-b675-7aa436ecb7a0"
      },
      "execution_count": null,
      "outputs": [
        {
          "output_type": "stream",
          "name": "stdout",
          "text": [
            "enter a number:3\n",
            "enter a number:4\n",
            "enter a number:5\n",
            "z largest number is\n"
          ]
        }
      ]
    },
    {
      "cell_type": "code",
      "source": [
        "# Q3 Write a program to check if a given year is a leap year. A leap year is divisible by 4 but not by 100 unless it is also divisible by 400.\n",
        "year = int(input(\"Enter a year: \"))\n",
        "if (year % 4 == 0 and year % 100 != 0) or (year % 400 == 0):\n",
        "    print(year, \"is a leap year\")\n",
        "else:\n",
        "    print(year, \"is not a leap year\")"
      ],
      "metadata": {
        "colab": {
          "base_uri": "https://localhost:8080/"
        },
        "id": "FKKY5JqmejFY",
        "outputId": "c23b454f-80ec-4b70-b711-9e1fcfed4eef"
      },
      "execution_count": null,
      "outputs": [
        {
          "output_type": "stream",
          "name": "stdout",
          "text": [
            "Enter a year: 2025\n",
            "2025 is not a leap year\n"
          ]
        }
      ]
    },
    {
      "cell_type": "code",
      "source": [
        "'''\n",
        "Q4 Write a program that takes a percentage (integer) as input and prints the corresponding grade based\n",
        "on the following criteria:\n",
        ">= 90: Grade A\n",
        ">= 80: Grade B\n",
        ">= 70: Grade C\n",
        ">= 60: Grade D\n",
        "< 60: Grade F\n",
        "'''\n",
        "x=int(input(\"enter a percentage:\"))\n",
        "if(x>=90):\n",
        "  print(\"grade A\")\n",
        "elif(x>=80):\n",
        "  print(\"grade B\")\n",
        "elif(x>=70):\n",
        "  print(\"grade C\")\n",
        "elif(x>=60):\n",
        "    print(\"grade D\")\n",
        "else:\n",
        "    print(\"grade F\")"
      ],
      "metadata": {
        "colab": {
          "base_uri": "https://localhost:8080/"
        },
        "id": "XYSMYTh5fNsb",
        "outputId": "723d4379-41f3-4dbc-cc47-4a4987503368"
      },
      "execution_count": null,
      "outputs": [
        {
          "output_type": "stream",
          "name": "stdout",
          "text": [
            "enter a percentage:20\n",
            "grade F\n"
          ]
        }
      ]
    },
    {
      "cell_type": "code",
      "source": [
        "# Q5 Write a program that checks if a given letter is a vowel (a, e, i, o, u) or a consonant.\n",
        "x=input(\"enter a letter:\")\n",
        "if(x==\"a\" or x==\"e\" or x==\"i\" or x==\"o\" or x==\"u\"):\n",
        "    print(\"the letter is vowel\")\n",
        "else:\n",
        "    print(\"the letter is consonant\")"
      ],
      "metadata": {
        "colab": {
          "base_uri": "https://localhost:8080/"
        },
        "id": "RSh_aM6QjzTc",
        "outputId": "f8ff495e-8b47-4912-c5f5-b7d6d0ce7cd0"
      },
      "execution_count": null,
      "outputs": [
        {
          "output_type": "stream",
          "name": "stdout",
          "text": [
            "enter a letter:j\n",
            "the letter is consonant\n"
          ]
        }
      ]
    },
    {
      "cell_type": "code",
      "source": [
        "# Q6 Write a basic calculator program that takes two numbers and an operator (+, -, *, /) as input and performs the specified operation. Print the result based on the operation.\n",
        "x=int(input(\"enter a number:\"))\n",
        "y=int(input(\"enter a number:\"))\n",
        "z=input(\"enter a operator:\")\n",
        "if(z==\"+\"):\n",
        "    print(x+y)\n",
        "elif(z==\"-\"):\n",
        "    print(x-y)\n",
        "elif(z==\"*\"):\n",
        "    print(x*y)\n",
        "elif(z==\"/\"):\n",
        "    print(x/y)\n",
        "else:\n",
        "    print(\"invalid\")\n"
      ],
      "metadata": {
        "colab": {
          "base_uri": "https://localhost:8080/"
        },
        "id": "6NVlVzIkm2_z",
        "outputId": "86bc969c-12eb-4dad-b56e-a77e0c1ab6e3"
      },
      "execution_count": null,
      "outputs": [
        {
          "output_type": "stream",
          "name": "stdout",
          "text": [
            "enter a number:09\n",
            "enter a number:10\n",
            "enter a operator:%\n",
            "invalid\n"
          ]
        }
      ]
    },
    {
      "cell_type": "code",
      "source": [
        "# Q7 Write a program that takes a number as input and checks whether it is positive, negative, or zero.\n",
        "x=int(input(\"enter a number:\"))\n",
        "if(x>0):\n",
        "    print(\"the number is positive\")\n",
        "elif(x<0):\n",
        "    print(\"the number is negative\")\n",
        "else:\n",
        "    print(\"the number is zero\")"
      ],
      "metadata": {
        "colab": {
          "base_uri": "https://localhost:8080/"
        },
        "id": "_OIqIPoEjZH8",
        "outputId": "73814c78-46bf-45b0-cee5-1e8ab2c52219"
      },
      "execution_count": null,
      "outputs": [
        {
          "output_type": "stream",
          "name": "stdout",
          "text": [
            "enter a number:0\n",
            "the number is zero\n"
          ]
        }
      ]
    },
    {
      "cell_type": "code",
      "source": [
        "# Q8 Write a program that checks if a username and password entered by the user match the pre-set values username = \"admin\" and password = \"1234\". If both match, print \"Login Successful\", otherwise print \"Login Failed\".\n",
        "username=str(input(\"enter a username:\"))\n",
        "password=int(input(\"enter a password:\"))\n",
        "if(username=='admin' and password==1234):\n",
        "  print(\"login successful\")\n",
        "else:\n",
        "  print(\"login failed\")\n"
      ],
      "metadata": {
        "colab": {
          "base_uri": "https://localhost:8080/"
        },
        "id": "3DRL_OwelrXi",
        "outputId": "c5f152e1-e510-4229-9dba-c2373f8dec7a"
      },
      "execution_count": null,
      "outputs": [
        {
          "output_type": "stream",
          "name": "stdout",
          "text": [
            "enter a username:admin\n",
            "enter a password:1234\n",
            "login successful\n"
          ]
        }
      ]
    },
    {
      "cell_type": "code",
      "source": [
        "# Q9 Write a program that takes three sides of a triangle as input and checks if those sides form a valid triangle. A triangle is valid if the sum of any two sides is greater than the third side.Check conditions like a + b > c, b + c > a, and a + c > b.\n",
        "a=int(input(\"enter a side a:\"))\n",
        "b=int(input(\"enter a side b:\"))\n",
        "c=int(input(\"enter a side c:\"))\n",
        "if((a + b > c) and (b + c > a) and (a + c > b)):\n",
        "  print(\"A triangle is valid \")\n",
        "else:\n",
        "  print(\"A triangle is invalid \")"
      ],
      "metadata": {
        "colab": {
          "base_uri": "https://localhost:8080/"
        },
        "id": "7trLAm7Oo8ly",
        "outputId": "3cdd9620-748a-4959-8067-952eec7af7ab"
      },
      "execution_count": null,
      "outputs": [
        {
          "output_type": "stream",
          "name": "stdout",
          "text": [
            "enter a side a:2\n",
            "enter a side b:3\n",
            "enter a side c:6\n",
            "A triangle is invalid \n"
          ]
        }
      ]
    },
    {
      "cell_type": "code",
      "source": [
        "# Q10 Write a program that calculates the Body Mass Index (BMI) based on user input for weight (in kilograms) and height (in meters). Then categorize the BMI into: Underweight (BMI < 18.5) Normal weight (18.5 <= BMI < 24.9) Overweight (25 <= BMI < 29.9) Obesity (BMI >= 30) Use the formula: BMI = weight / (height ** 2)\n",
        "weight=float(input(\"enter your weight in kilograms: \"))\n",
        "height=float(input(\"enter your height in meters: \"))\n",
        "BMI= weight/(height**2)\n",
        "if(BMI < 18.5):\n",
        "  print(\"under weight\")\n",
        "elif(BMI<=18.5 and BMI<24.5):\n",
        "  print(\"normal weight\")\n",
        "elif(BMI<=25 and BMI<29.9):\n",
        "  print(\"over weight\")\n",
        "else:\n",
        "  print(\"obsity\")"
      ],
      "metadata": {
        "colab": {
          "base_uri": "https://localhost:8080/"
        },
        "id": "uLCRjxE4pLAQ",
        "outputId": "8a6d64df-67dc-45e1-b24b-f2a8b592d02b"
      },
      "execution_count": null,
      "outputs": [
        {
          "output_type": "stream",
          "name": "stdout",
          "text": [
            "enter your weight in kilograms: 34\n",
            "enter your height in meters: 5\n",
            "under weight\n"
          ]
        }
      ]
    },
    {
      "cell_type": "code",
      "source": [
        "# Q11 Write a program that calculates the discount for a product based on its price:\n",
        "# If price is greater than 1000, discount is 10%\n",
        "# If price is between 500 and 1000, discount is 5%\n",
        "# Otherwise, no discount\n",
        "# Print the final price after applying the discount.\n",
        "price = float(input(\"Enter the price of the product: \"))\n",
        "\n",
        "if (price > 1000):\n",
        "    discount = price * 0.10\n",
        "elif (price<=500 and price<= 1000):\n",
        "    discount = price * 0.05\n",
        "else:\n",
        "    discount = 0\n",
        "\n",
        "finalprice = price - discount\n",
        "\n",
        "print(\"Discount applied: \",discount)\n",
        "print(\"Final price after discount: \",finalprice)\n",
        "\n"
      ],
      "metadata": {
        "colab": {
          "base_uri": "https://localhost:8080/"
        },
        "id": "Hv8tGFVAwsYR",
        "outputId": "adc78559-00db-40aa-fe23-42aa3e6af6e0"
      },
      "execution_count": null,
      "outputs": [
        {
          "output_type": "stream",
          "name": "stdout",
          "text": [
            "Enter the price of the product: 2345\n",
            "Discount applied:  234.5\n",
            "Final price after discount:  2110.5\n"
          ]
        }
      ]
    },
    {
      "cell_type": "code",
      "source": [
        "# Q12 Write a program that takes the name of a month as input and prints the number of days in that month. Consider leap years for February.\n",
        "month=int(input(\"enter month: \"))\n",
        "year=int(input(\"enter year: \"))\n",
        "\n"
      ],
      "metadata": {
        "id": "4eQck-_I2zUN"
      },
      "execution_count": null,
      "outputs": []
    },
    {
      "cell_type": "code",
      "source": [],
      "metadata": {
        "id": "dU9LP1WqO0N-"
      },
      "execution_count": null,
      "outputs": []
    }
  ]
}